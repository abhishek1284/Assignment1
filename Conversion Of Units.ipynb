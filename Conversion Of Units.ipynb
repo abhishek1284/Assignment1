{
 "cells": [
  {
   "cell_type": "code",
   "execution_count": 27,
   "id": "72072078-8350-4304-af03-3327585b3b9b",
   "metadata": {},
   "outputs": [],
   "source": [
    "def in_cm():\n",
    "    inches= float(input(\"enter distance in inches:\"))\n",
    "    cm=inches*2.54\n",
    "    m=cm/10\n",
    "    print('[0] inches is  equal to:{1} centimeters and {2} meters.'.format(inches,cm,m))\n",
    "    in_cm=[cm,m]\n",
    "    return in_cm\n",
    "                                                                          \n",
    "\n",
    "    "
   ]
  },
  {
   "cell_type": "code",
   "execution_count": 35,
   "id": "90a1b510-c13f-4281-8358-672e74ce7ea1",
   "metadata": {},
   "outputs": [],
   "source": [
    "def ft_m():\n",
    "    feet= float(input(\"enter distance in feet:\"))\n",
    "    m=feet*0.3408\n",
    "    cm=m*100\n",
    "    print('{0} feet is  equal to:{1} centimeters and {2} meters.'.format(feet,cm,m))\n",
    "    ft_=[cm,m]\n",
    "    return ft_m\n",
    "                 "
   ]
  },
  {
   "cell_type": "code",
   "execution_count": 31,
   "id": "162e01ef-4885-49e7-a629-01f5d569902f",
   "metadata": {},
   "outputs": [],
   "source": [
    "def mil_km():\n",
    "    kilometer= float(input(\"enter distance in kilometer:\"))\n",
    "    miles=kilometer* 0.62\n",
    "    print('{0} kilometer is  equal to:{1} miles.'.format(kilometer,miles))\n",
    "    mil_km=[kilometer,miles]\n",
    "    return mil_km\n",
    "    \n",
    "                 "
   ]
  },
  {
   "cell_type": "code",
   "execution_count": 39,
   "id": "0dcd9a23-9500-4ec9-987c-990432858778",
   "metadata": {},
   "outputs": [
    {
     "name": "stdin",
     "output_type": "stream",
     "text": [
      "enter distance in kilometer: 12\n"
     ]
    },
    {
     "name": "stdout",
     "output_type": "stream",
     "text": [
      "12.0 kilometer is  equal to:7.4399999999999995 miles.\n"
     ]
    },
    {
     "name": "stdin",
     "output_type": "stream",
     "text": [
      "enter distance in feet: 12\n"
     ]
    },
    {
     "name": "stdout",
     "output_type": "stream",
     "text": [
      "12.0 feet is  equal to:408.96 centimeters and 4.0896 meters.\n"
     ]
    },
    {
     "name": "stdin",
     "output_type": "stream",
     "text": [
      "enter distance in inches: 12\n"
     ]
    },
    {
     "name": "stdout",
     "output_type": "stream",
     "text": [
      "[0] inches is  equal to:30.48 centimeters and 3.048 meters.\n"
     ]
    },
    {
     "data": {
      "text/plain": [
       "[30.48, 3.048]"
      ]
     },
     "execution_count": 39,
     "metadata": {},
     "output_type": "execute_result"
    }
   ],
   "source": [
    "mil_km()\n",
    "ft_m()\n",
    "in_cm()"
   ]
  },
  {
   "cell_type": "code",
   "execution_count": 65,
   "id": "627502fe-867a-43aa-beee-473c5471b437",
   "metadata": {},
   "outputs": [],
   "source": [
    "\n",
    "def mil_pound():\n",
    "    kilogram= float(input(\"enter distance in kilogram:\"))\n",
    "    pound = kilogram* 2.20462\n",
    "    print('{0} kilogram is  equal to:{1} pound.'.format(kilogram,pound))\n",
    "    mil_pound=[kilogram,pound]\n",
    "    return mil_pound\n",
    "    "
   ]
  },
  {
   "cell_type": "code",
   "execution_count": 67,
   "id": "8f8f0886-76c8-480a-beca-c939912a254c",
   "metadata": {},
   "outputs": [
    {
     "name": "stdin",
     "output_type": "stream",
     "text": [
      "enter distance in kilogram: 1\n"
     ]
    },
    {
     "name": "stdout",
     "output_type": "stream",
     "text": [
      "1.0 kilogram is  equal to:2.20462 pound.\n"
     ]
    },
    {
     "data": {
      "text/plain": [
       "[1.0, 2.20462]"
      ]
     },
     "execution_count": 67,
     "metadata": {},
     "output_type": "execute_result"
    }
   ],
   "source": [
    "mil_pound()"
   ]
  },
  {
   "cell_type": "code",
   "execution_count": 73,
   "id": "5149e14d-6b23-4c22-956c-c3694403dbc7",
   "metadata": {},
   "outputs": [],
   "source": [
    "\n",
    "def mil_ounces():\n",
    "    grams= float(input(\"enter distance in grams:\"))\n",
    "    ounces = grams* 0.035\n",
    "    print('{0} grams is  equal to:{1} ounces.'.format(grams,ounces))\n",
    "    mil_km=[grams,ounces]\n",
    "    return mil_ounces\n",
    "    "
   ]
  },
  {
   "cell_type": "code",
   "execution_count": 75,
   "id": "ea63d148-e111-4952-aec3-9d5e444e092f",
   "metadata": {},
   "outputs": [
    {
     "name": "stdin",
     "output_type": "stream",
     "text": [
      "enter distance in grams: 1\n"
     ]
    },
    {
     "name": "stdout",
     "output_type": "stream",
     "text": [
      "1.0 grams is  equal to:0.035 ounces.\n"
     ]
    },
    {
     "data": {
      "text/plain": [
       "<function __main__.mil_ounces()>"
      ]
     },
     "execution_count": 75,
     "metadata": {},
     "output_type": "execute_result"
    }
   ],
   "source": [
    "mil_ounces()"
   ]
  },
  {
   "cell_type": "code",
   "execution_count": 21,
   "id": "00eeb68b-99d8-4741-9e9b-8535dc073416",
   "metadata": {},
   "outputs": [],
   "source": [
    "def mil_fahrenheit():\n",
    "    fahrenheit = float(input(\"Enter temperature in Fahrenheit: \"))\n",
    "    \n",
    "    # Correct formula for Fahrenheit to Celsius conversion\n",
    "    celsius = (fahrenheit - 32) * 5 / 9  \n",
    "    \n",
    "    # Print results as integers\n",
    "    print(f'{int(fahrenheit)} Fahrenheit is equal to {int(celsius)} Celsius.')\n",
    "    \n",
    "    # Return results as a list of integers\n",
    "    mil_fahrenheit = [int(fahrenheit), int(celsius)]\n",
    "    return mil_fahrenheit\n"
   ]
  },
  {
   "cell_type": "code",
   "execution_count": 23,
   "id": "c6a89e38-4e97-45ff-aac5-65cffc579cbc",
   "metadata": {},
   "outputs": [
    {
     "name": "stdin",
     "output_type": "stream",
     "text": [
      "Enter temperature in Fahrenheit:  12.5\n"
     ]
    },
    {
     "name": "stdout",
     "output_type": "stream",
     "text": [
      "12 Fahrenheit is equal to -10 Celsius.\n"
     ]
    },
    {
     "data": {
      "text/plain": [
       "[12, -10]"
      ]
     },
     "execution_count": 23,
     "metadata": {},
     "output_type": "execute_result"
    }
   ],
   "source": [
    "mil_fahrenheit()"
   ]
  },
  {
   "cell_type": "code",
   "execution_count": null,
   "id": "331bebbd-1965-46fe-aded-1c7a9dbe6283",
   "metadata": {},
   "outputs": [],
   "source": []
  }
 ],
 "metadata": {
  "kernelspec": {
   "display_name": "Python 3 (ipykernel)",
   "language": "python",
   "name": "python3"
  },
  "language_info": {
   "codemirror_mode": {
    "name": "ipython",
    "version": 3
   },
   "file_extension": ".py",
   "mimetype": "text/x-python",
   "name": "python",
   "nbconvert_exporter": "python",
   "pygments_lexer": "ipython3",
   "version": "3.12.7"
  }
 },
 "nbformat": 4,
 "nbformat_minor": 5
}
